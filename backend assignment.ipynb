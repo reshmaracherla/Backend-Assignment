{
 "cells": [
  {
   "cell_type": "code",
   "execution_count": 1,
   "id": "8e37ad45",
   "metadata": {},
   "outputs": [
    {
     "name": "stdout",
     "output_type": "stream",
     "text": [
      " * Serving Flask app \"__main__\" (lazy loading)\n",
      " * Environment: production\n",
      "\u001b[31m   WARNING: This is a development server. Do not use it in a production deployment.\u001b[0m\n",
      "\u001b[2m   Use a production WSGI server instead.\u001b[0m\n",
      " * Debug mode: on\n"
     ]
    },
    {
     "name": "stderr",
     "output_type": "stream",
     "text": [
      " * Running on http://127.0.0.1:5000/ (Press CTRL+C to quit)\n",
      "127.0.0.1 - - [29/Jan/2024 13:06:26] \"POST /largest-rectangle HTTP/1.1\" 200 -\n"
     ]
    }
   ],
   "source": [
    "from typing import List\n",
    "from flask import Flask, request, jsonify\n",
    "import threading\n",
    "from sqlalchemy import create_engine, Column, Integer, String, DateTime\n",
    "from sqlalchemy.ext.declarative import declarative_base\n",
    "from sqlalchemy.orm import sessionmaker\n",
    "from datetime import datetime\n",
    "\n",
    "app = Flask(__name__)\n",
    "\n",
    "# Define database model\n",
    "Base = declarative_base()\n",
    "\n",
    "class LogEntry(Base):\n",
    "    __tablename__ = 'log_entries'\n",
    "    id = Column(Integer, primary_key=True)\n",
    "    matrix = Column(String)\n",
    "    response = Column(String)\n",
    "    request_time = Column(DateTime)\n",
    "    response_time = Column(DateTime)\n",
    "\n",
    "# Function to compute the largest rectangle\n",
    "def largest_rectangle(matrix: List[List[int]]) -> tuple:\n",
    "    if not matrix or not matrix[0]:\n",
    "        raise ValueError(\"Invalid matrix\")\n",
    "    rows = len(matrix)\n",
    "    cols = len(matrix[0])\n",
    "    max_area = 0\n",
    "    max_number = 0\n",
    "    for row in range(rows):\n",
    "        for col in range(cols):\n",
    "            if matrix[row][col] != -9: # Skip processed cells\n",
    "                current_number = matrix[row][col]\n",
    "                current_area = 0\n",
    "                # Find the maximum area rectangle with the current number\n",
    "                for i in range(row, rows):\n",
    "                    if matrix[i][col] == current_number:\n",
    "                        width = 0\n",
    "                        while col + width < cols and matrix[i][col + width] == current_number:\n",
    "                            width += 1\n",
    "                        height = i - row + 1\n",
    "                        current_area = max(current_area, width * height)\n",
    "                if current_area > max_area:\n",
    "                    max_area = current_area\n",
    "                    max_number = current_number\n",
    "    return max_number, max_area\n",
    "\n",
    "# Route for welcome message\n",
    "@app.route('/')\n",
    "def welcome():\n",
    "    return \"Welcome to the Largest Rectangle API!\"\n",
    "\n",
    "# Route for largest rectangle computation\n",
    "@app.route('/largest-rectangle', methods=['POST'])\n",
    "def get_largest_rectangle():\n",
    "    try:\n",
    "        matrix = request.json.get('matrix')\n",
    "        if not matrix:\n",
    "            raise ValueError(\"Matrix not provided in the request\")\n",
    "        request_time = datetime.now()\n",
    "        largest_number, largest_rectangle_area = largest_rectangle(matrix)\n",
    "        response_time = datetime.now()\n",
    "\n",
    "        # Save entry to the database\n",
    "        engine = create_engine(\"sqlite:///log.db\")\n",
    "        Base.metadata.create_all(engine) # Create tables if not exists\n",
    "        Session = sessionmaker(bind=engine)\n",
    "        session = Session()\n",
    "        new_entry = LogEntry(matrix=str(matrix), response=str({\"largest_number\": largest_number, \"largest_rectangle_area\": largest_rectangle_area}), request_time=request_time, response_time=response_time)\n",
    "        session.add(new_entry)\n",
    "        session.commit()\n",
    "        session.close()\n",
    "\n",
    "        return jsonify({\"largest_number\": largest_number, \"largest_rectangle_area\": largest_rectangle_area})\n",
    "    except Exception as e:\n",
    "        return jsonify({\"error\": str(e)}), 400\n",
    "\n",
    "def run_flask_app():\n",
    "    app.run(debug=True, host='127.0.0.1', port=5000, use_reloader=False)\n",
    "\n",
    "if __name__ == '__main__':\n",
    "    threading.Thread(target=run_flask_app).start()\n"
   ]
  },
  {
   "cell_type": "code",
   "execution_count": null,
   "id": "ece2c0b2",
   "metadata": {},
   "outputs": [],
   "source": []
  }
 ],
 "metadata": {
  "kernelspec": {
   "display_name": "Python 3 (ipykernel)",
   "language": "python",
   "name": "python3"
  },
  "language_info": {
   "codemirror_mode": {
    "name": "ipython",
    "version": 3
   },
   "file_extension": ".py",
   "mimetype": "text/x-python",
   "name": "python",
   "nbconvert_exporter": "python",
   "pygments_lexer": "ipython3",
   "version": "3.9.12"
  }
 },
 "nbformat": 4,
 "nbformat_minor": 5
}
